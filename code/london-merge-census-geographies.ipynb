{
 "cells": [
  {
   "cell_type": "markdown",
   "id": "6004252e-aed9-4d1f-abfe-ccc7f70a43c5",
   "metadata": {},
   "source": [
    "*Read BestFit Data*\n",
    "- Read best fit spreadsheet\n",
    "- subset to London Boroughs\n",
    "\n",
    "*Read Data*\n",
    "- Read 2011 data \n",
    "- Read 2021 data (e.g. census2021-ts001-lsoa.csv)\n",
    "- Read 2021 geometries (london-2021-lsoa.shp)\n",
    "    - calculate polygon area\n",
    "\n",
    "*Merge Data*\n",
    "- Merge 2011 data to bestfit on LSOA11CD \n",
    "- Merge 2021 data to bestfit on LSOA21CD\n",
    "- Merge 2021 areas on LSOA21CD\n",
    "\n",
    "*Calc props*\n",
    "- Create '2021 area prop' column:\n",
    "    - Where CHGIND is U, set value 1\n",
    "    - Where CHGIND is M, set value 2\n",
    "    - Where CHGIND is S: calculate proportion from sum of areas for LSOAs with identical LSOA11CD \n",
    "\n",
    "*Calc 2021 merged*\n",
    "- Create 'merged 2011' column\n",
    "    - Where CHGIND is U, use original 2011 data value \n",
    "    - Where CHGIND is M, use sum of 2011 LSOAs with the LSOA21CD for M\n",
    "    - Where CHGIND is S, multiply original 2011 data value by '2021 area prop'"
   ]
  },
  {
   "cell_type": "code",
   "execution_count": 1,
   "id": "3f977fb1-2848-4728-a40f-c38da60533f6",
   "metadata": {},
   "outputs": [
    {
     "name": "stdout",
     "output_type": "stream",
     "text": [
      "Last tested: 2023-08-16\n"
     ]
    }
   ],
   "source": [
    "from datetime import date\n",
    "print(f'Last tested: {date.today()}')"
   ]
  },
  {
   "cell_type": "code",
   "execution_count": 2,
   "id": "c6b00974-8bd6-4b62-9046-31fb39fe9333",
   "metadata": {},
   "outputs": [],
   "source": [
    "import pyproj\n",
    "import geopandas as gpd\n",
    "import shapely\n",
    "import pandas as pd\n",
    "import matplotlib.pyplot as plt\n",
    "from pathlib import Path"
   ]
  },
  {
   "cell_type": "markdown",
   "id": "d3da5ccc-6654-46d3-9d28-72649f9e75c3",
   "metadata": {},
   "source": [
    "*Read BestFit Data*\n",
    "- Read best fit spreadsheet\n",
    "- subset to London Boroughs"
   ]
  },
  {
   "cell_type": "code",
   "execution_count": 3,
   "id": "423d4a0c-f0dd-487a-a33b-9ec0cab65361",
   "metadata": {},
   "outputs": [],
   "source": [
    "census_ipath = Path(\"../data/inputs/census/\")\n",
    "bestfit = pd.read_csv(census_ipath / \"Lookup-ExactFit-LSOA11_to_LSOA21_to_LAD22_EW_Version_2.csv\",\n",
    "                      usecols = list(range(7)))"
   ]
  },
  {
   "cell_type": "code",
   "execution_count": 4,
   "id": "023d6776-3cb9-4c30-8fda-e0dbdad1dec0",
   "metadata": {},
   "outputs": [
    {
     "name": "stdout",
     "output_type": "stream",
     "text": [
      "<class 'pandas.core.frame.DataFrame'>\n",
      "RangeIndex: 35796 entries, 0 to 35795\n",
      "Data columns (total 7 columns):\n",
      " #   Column    Non-Null Count  Dtype \n",
      "---  ------    --------------  ----- \n",
      " 0   LSOA11CD  35796 non-null  object\n",
      " 1   LSOA11NM  35796 non-null  object\n",
      " 2   LSOA21CD  35796 non-null  object\n",
      " 3   LSOA21NM  35796 non-null  object\n",
      " 4   CHGIND    35796 non-null  object\n",
      " 5   LAD22CD   35796 non-null  object\n",
      " 6   LAD22NM   35796 non-null  object\n",
      "dtypes: object(7)\n",
      "memory usage: 1.9+ MB\n"
     ]
    }
   ],
   "source": [
    "bestfit.info()"
   ]
  },
  {
   "cell_type": "code",
   "execution_count": 5,
   "id": "b9751bda-c79d-4731-b43a-165089bce7b5",
   "metadata": {},
   "outputs": [
    {
     "data": {
      "text/plain": [
       "array(['City of London', 'Barking and Dagenham', 'Bexley', 'Barnet',\n",
       "       'Brent', 'Bromley', 'Croydon', 'Camden', 'Ealing', 'Enfield',\n",
       "       'Greenwich', 'Hackney', 'Haringey', 'Hammersmith and Fulham',\n",
       "       'Hillingdon', 'Harrow', 'Havering', 'Islington', 'Hounslow',\n",
       "       'Kensington and Chelsea', 'Kingston upon Thames', 'Lambeth',\n",
       "       'Lewisham', 'Merton', 'Redbridge', 'Newham', 'Sutton', 'Southwark',\n",
       "       'Richmond upon Thames', 'Tower Hamlets', 'Waltham Forest',\n",
       "       'Wandsworth', 'Bury', 'Bolton', 'Westminster', 'Manchester',\n",
       "       'Oldham', 'Rochdale', 'Salford', 'Stockport', 'Trafford', 'Wigan',\n",
       "       'Tameside', 'Knowsley', 'Liverpool', 'Sefton', 'Wirral',\n",
       "       'St. Helens', 'Doncaster', 'Barnsley', 'Rotherham', 'Sheffield',\n",
       "       'Gateshead', 'Newcastle upon Tyne', 'North Tyneside', 'Sunderland',\n",
       "       'South Tyneside', 'Birmingham', 'Coventry', 'Dudley', 'Sandwell',\n",
       "       'Solihull', 'Walsall', 'Wolverhampton', 'Bradford', 'Calderdale',\n",
       "       'Leeds', 'Kirklees', 'Wakefield', 'Hartlepool', 'Middlesbrough',\n",
       "       'Redcar and Cleveland', 'Stockton-on-Tees', 'Warrington', 'Halton',\n",
       "       'Blackburn with Darwen', 'Darlington',\n",
       "       'Kingston upon Hull, City of', 'East Riding of Yorkshire',\n",
       "       'Blackpool', 'North East Lincolnshire', 'North Lincolnshire',\n",
       "       'York', 'Derby', 'Leicester', 'Nottingham', 'Rutland',\n",
       "       'Herefordshire, County of', 'Stoke-on-Trent', 'Telford and Wrekin',\n",
       "       'Bristol, City of', 'Bath and North East Somerset',\n",
       "       'North Somerset', 'South Gloucestershire', 'Plymouth',\n",
       "       'Bournemouth, Christchurch and Poole', 'Torbay', 'Swindon',\n",
       "       'Luton', 'Peterborough', 'Southend-on-Sea', 'Thurrock', 'Medway',\n",
       "       'West Berkshire', 'Bracknell Forest', 'Reading', 'Milton Keynes',\n",
       "       'Slough', 'Windsor and Maidenhead', 'Wokingham',\n",
       "       'Brighton and Hove', 'Portsmouth', 'Southampton', 'Isle of Wight',\n",
       "       'Central Bedfordshire', 'Buckinghamshire', 'Bedford', 'Cambridge',\n",
       "       'Fenland', 'East Cambridgeshire', 'Huntingdonshire',\n",
       "       'Cheshire East', 'Cheshire West and Chester',\n",
       "       'South Cambridgeshire', 'Cornwall', 'Allerdale', 'Copeland',\n",
       "       'Barrow-in-Furness', 'South Lakeland', 'Carlisle', 'Eden',\n",
       "       'Isles of Scilly', 'Amber Valley', 'Bolsover', 'Chesterfield',\n",
       "       'Erewash', 'High Peak', 'North East Derbyshire',\n",
       "       'Derbyshire Dales', 'East Devon', 'South Derbyshire',\n",
       "       'North Devon', 'Exeter', 'South Hams', 'Mid Devon', 'Teignbridge',\n",
       "       'West Devon', 'Dorset', 'County Durham', 'Torridge', 'Hastings',\n",
       "       'Eastbourne', 'Lewes', 'Wealden', 'Rother', 'Brentwood',\n",
       "       'Braintree', 'Castle Point', 'Basildon', 'Epping Forest',\n",
       "       'Chelmsford', 'Colchester', 'Harlow', 'Maldon', 'Cotswold',\n",
       "       'Rochford', 'Forest of Dean', 'Cheltenham', 'Tendring',\n",
       "       'Gloucester', 'Uttlesford', 'Stroud', 'East Hampshire',\n",
       "       'Eastleigh', 'Tewkesbury', 'Fareham', 'Basingstoke and Deane',\n",
       "       'Hart', 'New Forest', 'Gosport', 'Rushmoor', 'Havant',\n",
       "       'Test Valley', 'Dacorum', 'East Hertfordshire', 'Hertsmere',\n",
       "       'Winchester', 'Broxbourne', 'North Hertfordshire', 'Three Rivers',\n",
       "       'Stevenage', 'St Albans', 'Welwyn Hatfield', 'Ashford', 'Watford',\n",
       "       'Maidstone', 'Gravesham', 'Sevenoaks', 'Dover', 'Canterbury',\n",
       "       'Dartford', 'Folkestone and Hythe', 'Swale', 'Burnley', 'Thanet',\n",
       "       'Tonbridge and Malling', 'Tunbridge Wells', 'Chorley', 'Lancaster',\n",
       "       'Pendle', 'Hyndburn', 'Fylde', 'Preston', 'Wyre',\n",
       "       'West Lancashire', 'Ribble Valley', 'South Ribble', 'Rossendale',\n",
       "       'Blaby', 'Charnwood', 'Melton', 'Hinckley and Bosworth',\n",
       "       'North West Leicestershire', 'Boston', 'East Lindsey',\n",
       "       'Harborough', 'Oadby and Wigston', 'South Kesteven',\n",
       "       'South Holland', 'Lincoln', 'Breckland', 'North Kesteven',\n",
       "       'Broadland', 'West Lindsey', 'Great Yarmouth',\n",
       "       \"King's Lynn and West Norfolk\", 'Norwich', 'South Norfolk',\n",
       "       'North Norfolk', 'North Northamptonshire', 'West Northamptonshire',\n",
       "       'Northumberland', 'Richmondshire', 'Ryedale', 'Scarborough',\n",
       "       'Craven', 'Harrogate', 'Hambleton', 'Bassetlaw', 'Ashfield',\n",
       "       'Broxtowe', 'Selby', 'Mansfield', 'Gedling', 'Cherwell',\n",
       "       'Rushcliffe', 'South Oxfordshire', 'Newark and Sherwood', 'Oxford',\n",
       "       'Shropshire', 'Vale of White Horse', 'Mendip', 'West Oxfordshire',\n",
       "       'Sedgemoor', 'Somerset West and Taunton', 'Cannock Chase',\n",
       "       'East Staffordshire', 'South Somerset', 'Lichfield', 'Babergh',\n",
       "       'Stafford', 'South Staffordshire', 'Newcastle-under-Lyme',\n",
       "       'Tamworth', 'Staffordshire Moorlands', 'West Suffolk',\n",
       "       'East Suffolk', 'Ipswich', 'Mid Suffolk', 'Elmbridge', 'Runnymede',\n",
       "       'Guildford', 'Spelthorne', 'Reigate and Banstead',\n",
       "       'Epsom and Ewell', 'Mole Valley', 'Surrey Heath', 'Woking',\n",
       "       'North Warwickshire', 'Tandridge', 'Rugby', 'Waverley',\n",
       "       'Nuneaton and Bedworth', 'Crawley', 'Stratford-on-Avon', 'Arun',\n",
       "       'Chichester', 'Warwick', 'Adur', 'Wiltshire', 'Horsham',\n",
       "       'Worthing', 'Mid Sussex', 'Wychavon', 'Wyre Forest', 'Worcester',\n",
       "       'Bromsgrove', 'Redditch', 'Malvern Hills', 'Gwynedd',\n",
       "       'Isle of Anglesey', 'Conwy', 'Denbighshire', 'Flintshire',\n",
       "       'Ceredigion', 'Powys', 'Wrexham', 'Pembrokeshire', 'Swansea',\n",
       "       'Carmarthenshire', 'Neath Port Talbot', 'Bridgend',\n",
       "       'Rhondda Cynon Taf', 'Merthyr Tydfil', 'Vale of Glamorgan',\n",
       "       'Caerphilly', 'Monmouthshire', 'Cardiff', 'Newport',\n",
       "       'Blaenau Gwent', 'Torfaen'], dtype=object)"
      ]
     },
     "execution_count": 5,
     "metadata": {},
     "output_type": "execute_result"
    }
   ],
   "source": [
    "lads = pd.unique(bestfit.LAD22NM)\n",
    "lads"
   ]
  },
  {
   "cell_type": "markdown",
   "id": "9e87a33e-a593-47c3-af1e-e8d62b14ca55",
   "metadata": {},
   "source": [
    "From this we can see London boroughs _are_ listed first (except for Westminster - Bury and Bolton will need to be dropped), so we can get list of borough names relatively easily:"
   ]
  },
  {
   "cell_type": "code",
   "execution_count": 6,
   "id": "b9bbdb28-1f14-47bc-95e4-9fd31668a83e",
   "metadata": {},
   "outputs": [
    {
     "name": "stdout",
     "output_type": "stream",
     "text": [
      "['City of London', 'Barking and Dagenham', 'Bexley', 'Barnet', 'Brent', 'Bromley', 'Croydon', 'Camden', 'Ealing', 'Enfield', 'Greenwich', 'Hackney', 'Haringey', 'Hammersmith and Fulham', 'Hillingdon', 'Harrow', 'Havering', 'Islington', 'Hounslow', 'Kensington and Chelsea', 'Kingston upon Thames', 'Lambeth', 'Lewisham', 'Merton', 'Redbridge', 'Newham', 'Sutton', 'Southwark', 'Richmond upon Thames', 'Tower Hamlets', 'Waltham Forest', 'Wandsworth', 'Westminster']\n",
      "33\n"
     ]
    }
   ],
   "source": [
    "lads = list(lads)\n",
    "london_lads = lads[:lads.index('Westminster')+1]\n",
    "london_lads.remove(\"Bury\")\n",
    "london_lads.remove(\"Bolton\")\n",
    "print(london_lads)\n",
    "print(len(london_lads))"
   ]
  },
  {
   "cell_type": "code",
   "execution_count": 7,
   "id": "48dba610-fd59-4f6e-93a0-62e05eb51799",
   "metadata": {},
   "outputs": [
    {
     "data": {
      "text/html": [
       "<div>\n",
       "<style scoped>\n",
       "    .dataframe tbody tr th:only-of-type {\n",
       "        vertical-align: middle;\n",
       "    }\n",
       "\n",
       "    .dataframe tbody tr th {\n",
       "        vertical-align: top;\n",
       "    }\n",
       "\n",
       "    .dataframe thead th {\n",
       "        text-align: right;\n",
       "    }\n",
       "</style>\n",
       "<table border=\"1\" class=\"dataframe\">\n",
       "  <thead>\n",
       "    <tr style=\"text-align: right;\">\n",
       "      <th></th>\n",
       "      <th>LSOA11CD</th>\n",
       "      <th>LSOA11NM</th>\n",
       "      <th>LSOA21CD</th>\n",
       "      <th>LSOA21NM</th>\n",
       "      <th>CHGIND</th>\n",
       "      <th>LAD22CD</th>\n",
       "      <th>LAD22NM</th>\n",
       "    </tr>\n",
       "  </thead>\n",
       "  <tbody>\n",
       "    <tr>\n",
       "      <th>0</th>\n",
       "      <td>E01000001</td>\n",
       "      <td>City of London 001A</td>\n",
       "      <td>E01000001</td>\n",
       "      <td>City of London 001A</td>\n",
       "      <td>U</td>\n",
       "      <td>E09000001</td>\n",
       "      <td>City of London</td>\n",
       "    </tr>\n",
       "    <tr>\n",
       "      <th>1</th>\n",
       "      <td>E01000002</td>\n",
       "      <td>City of London 001B</td>\n",
       "      <td>E01000002</td>\n",
       "      <td>City of London 001B</td>\n",
       "      <td>U</td>\n",
       "      <td>E09000001</td>\n",
       "      <td>City of London</td>\n",
       "    </tr>\n",
       "    <tr>\n",
       "      <th>2</th>\n",
       "      <td>E01000003</td>\n",
       "      <td>City of London 001C</td>\n",
       "      <td>E01000003</td>\n",
       "      <td>City of London 001C</td>\n",
       "      <td>U</td>\n",
       "      <td>E09000001</td>\n",
       "      <td>City of London</td>\n",
       "    </tr>\n",
       "    <tr>\n",
       "      <th>3</th>\n",
       "      <td>E01000005</td>\n",
       "      <td>City of London 001E</td>\n",
       "      <td>E01000005</td>\n",
       "      <td>City of London 001E</td>\n",
       "      <td>U</td>\n",
       "      <td>E09000001</td>\n",
       "      <td>City of London</td>\n",
       "    </tr>\n",
       "    <tr>\n",
       "      <th>4</th>\n",
       "      <td>E01000006</td>\n",
       "      <td>Barking and Dagenham 016A</td>\n",
       "      <td>E01000006</td>\n",
       "      <td>Barking and Dagenham 016A</td>\n",
       "      <td>U</td>\n",
       "      <td>E09000002</td>\n",
       "      <td>Barking and Dagenham</td>\n",
       "    </tr>\n",
       "  </tbody>\n",
       "</table>\n",
       "</div>"
      ],
      "text/plain": [
       "    LSOA11CD                   LSOA11NM   LSOA21CD                   LSOA21NM  \\\n",
       "0  E01000001        City of London 001A  E01000001        City of London 001A   \n",
       "1  E01000002        City of London 001B  E01000002        City of London 001B   \n",
       "2  E01000003        City of London 001C  E01000003        City of London 001C   \n",
       "3  E01000005        City of London 001E  E01000005        City of London 001E   \n",
       "4  E01000006  Barking and Dagenham 016A  E01000006  Barking and Dagenham 016A   \n",
       "\n",
       "  CHGIND    LAD22CD               LAD22NM  \n",
       "0      U  E09000001        City of London  \n",
       "1      U  E09000001        City of London  \n",
       "2      U  E09000001        City of London  \n",
       "3      U  E09000001        City of London  \n",
       "4      U  E09000002  Barking and Dagenham  "
      ]
     },
     "execution_count": 7,
     "metadata": {},
     "output_type": "execute_result"
    }
   ],
   "source": [
    "bestfit = bestfit[bestfit['LSOA21NM'].str.contains(\"|\".join(london_lads))]   #from https://stackoverflow.com/a/71399966\n",
    "bestfit = bestfit.copy(deep=False)\n",
    "bestfit.head()"
   ]
  },
  {
   "cell_type": "code",
   "execution_count": 8,
   "id": "2c9dcd23-9453-43ee-be4c-9d574e0994f0",
   "metadata": {},
   "outputs": [
    {
     "data": {
      "text/plain": [
       "array(['City of London', 'Barking and Dagenham', 'Bexley', 'Barnet',\n",
       "       'Brent', 'Bromley', 'Croydon', 'Camden', 'Ealing', 'Enfield',\n",
       "       'Greenwich', 'Hackney', 'Haringey', 'Hammersmith and Fulham',\n",
       "       'Hillingdon', 'Harrow', 'Havering', 'Islington', 'Hounslow',\n",
       "       'Kensington and Chelsea', 'Kingston upon Thames', 'Lambeth',\n",
       "       'Lewisham', 'Merton', 'Redbridge', 'Newham', 'Sutton', 'Southwark',\n",
       "       'Richmond upon Thames', 'Tower Hamlets', 'Waltham Forest',\n",
       "       'Wandsworth', 'Westminster', 'Brentwood'], dtype=object)"
      ]
     },
     "execution_count": 8,
     "metadata": {},
     "output_type": "execute_result"
    }
   ],
   "source": [
    "pd.unique(bestfit.LAD22NM)"
   ]
  },
  {
   "cell_type": "code",
   "execution_count": 9,
   "id": "b6ff050d-8124-41b8-9b47-9ea62d03e87d",
   "metadata": {},
   "outputs": [],
   "source": [
    "bestfit = bestfit[~bestfit['LSOA21NM'].str.contains('Brentwood')]"
   ]
  },
  {
   "cell_type": "code",
   "execution_count": 10,
   "id": "add83539-e08f-4151-b6a8-298b7ad128b3",
   "metadata": {},
   "outputs": [
    {
     "data": {
      "text/plain": [
       "array(['City of London', 'Barking and Dagenham', 'Bexley', 'Barnet',\n",
       "       'Brent', 'Bromley', 'Croydon', 'Camden', 'Ealing', 'Enfield',\n",
       "       'Greenwich', 'Hackney', 'Haringey', 'Hammersmith and Fulham',\n",
       "       'Hillingdon', 'Harrow', 'Havering', 'Islington', 'Hounslow',\n",
       "       'Kensington and Chelsea', 'Kingston upon Thames', 'Lambeth',\n",
       "       'Lewisham', 'Merton', 'Redbridge', 'Newham', 'Sutton', 'Southwark',\n",
       "       'Richmond upon Thames', 'Tower Hamlets', 'Waltham Forest',\n",
       "       'Wandsworth', 'Westminster'], dtype=object)"
      ]
     },
     "execution_count": 10,
     "metadata": {},
     "output_type": "execute_result"
    }
   ],
   "source": [
    "pd.unique(bestfit.LAD22NM)"
   ]
  },
  {
   "cell_type": "markdown",
   "id": "c45b308b-f515-4ee2-84ea-c8569d54620f",
   "metadata": {},
   "source": [
    "*Read Data*\n",
    "- Read 2011 data \n",
    "- Read 2021 data (e.g. census2021-ts001-lsoa.csv)\n",
    "- Read 2021 geometries (london-2021-lsoa.shp)\n",
    "    - calculate polygon area"
   ]
  },
  {
   "cell_type": "code",
   "execution_count": 11,
   "id": "ecb2c3e7-555f-429c-bdb5-f50c445dbe9c",
   "metadata": {},
   "outputs": [],
   "source": [
    "ts11 = pd.read_csv(census_ipath / \"KS101EWDATA06.CSV\")"
   ]
  },
  {
   "cell_type": "code",
   "execution_count": 12,
   "id": "5846ae75-88d5-4557-846e-6fc8eb17cf11",
   "metadata": {},
   "outputs": [
    {
     "data": {
      "text/html": [
       "<div>\n",
       "<style scoped>\n",
       "    .dataframe tbody tr th:only-of-type {\n",
       "        vertical-align: middle;\n",
       "    }\n",
       "\n",
       "    .dataframe tbody tr th {\n",
       "        vertical-align: top;\n",
       "    }\n",
       "\n",
       "    .dataframe thead th {\n",
       "        text-align: right;\n",
       "    }\n",
       "</style>\n",
       "<table border=\"1\" class=\"dataframe\">\n",
       "  <thead>\n",
       "    <tr style=\"text-align: right;\">\n",
       "      <th></th>\n",
       "      <th>GeographyCode</th>\n",
       "      <th>KS101EW0001</th>\n",
       "      <th>KS101EW0002</th>\n",
       "      <th>KS101EW0003</th>\n",
       "      <th>KS101EW0004</th>\n",
       "      <th>KS101EW0005</th>\n",
       "      <th>KS101EW0006</th>\n",
       "      <th>KS101EW0007</th>\n",
       "      <th>KS101EW0008</th>\n",
       "      <th>KS101EW0009</th>\n",
       "      <th>KS101EW0010</th>\n",
       "      <th>KS101EW0011</th>\n",
       "      <th>KS101EW0012</th>\n",
       "    </tr>\n",
       "  </thead>\n",
       "  <tbody>\n",
       "    <tr>\n",
       "      <th>0</th>\n",
       "      <td>E01000001</td>\n",
       "      <td>1465</td>\n",
       "      <td>767</td>\n",
       "      <td>698</td>\n",
       "      <td>1465</td>\n",
       "      <td>0</td>\n",
       "      <td>21</td>\n",
       "      <td>12.98</td>\n",
       "      <td>112.865948</td>\n",
       "      <td>52.354949</td>\n",
       "      <td>47.645051</td>\n",
       "      <td>100.000000</td>\n",
       "      <td>0.000000</td>\n",
       "    </tr>\n",
       "    <tr>\n",
       "      <th>1</th>\n",
       "      <td>E01000002</td>\n",
       "      <td>1436</td>\n",
       "      <td>767</td>\n",
       "      <td>669</td>\n",
       "      <td>1436</td>\n",
       "      <td>0</td>\n",
       "      <td>22</td>\n",
       "      <td>22.84</td>\n",
       "      <td>62.872154</td>\n",
       "      <td>53.412256</td>\n",
       "      <td>46.587744</td>\n",
       "      <td>100.000000</td>\n",
       "      <td>0.000000</td>\n",
       "    </tr>\n",
       "    <tr>\n",
       "      <th>2</th>\n",
       "      <td>E01000003</td>\n",
       "      <td>1346</td>\n",
       "      <td>714</td>\n",
       "      <td>632</td>\n",
       "      <td>1250</td>\n",
       "      <td>96</td>\n",
       "      <td>12</td>\n",
       "      <td>5.91</td>\n",
       "      <td>227.749577</td>\n",
       "      <td>53.046062</td>\n",
       "      <td>46.953938</td>\n",
       "      <td>92.867756</td>\n",
       "      <td>7.132244</td>\n",
       "    </tr>\n",
       "    <tr>\n",
       "      <th>3</th>\n",
       "      <td>E01000005</td>\n",
       "      <td>985</td>\n",
       "      <td>528</td>\n",
       "      <td>457</td>\n",
       "      <td>985</td>\n",
       "      <td>0</td>\n",
       "      <td>5</td>\n",
       "      <td>18.96</td>\n",
       "      <td>51.951477</td>\n",
       "      <td>53.604061</td>\n",
       "      <td>46.395939</td>\n",
       "      <td>100.000000</td>\n",
       "      <td>0.000000</td>\n",
       "    </tr>\n",
       "    <tr>\n",
       "      <th>4</th>\n",
       "      <td>E01000006</td>\n",
       "      <td>1703</td>\n",
       "      <td>866</td>\n",
       "      <td>837</td>\n",
       "      <td>1699</td>\n",
       "      <td>4</td>\n",
       "      <td>16</td>\n",
       "      <td>14.66</td>\n",
       "      <td>116.166439</td>\n",
       "      <td>50.851439</td>\n",
       "      <td>49.148561</td>\n",
       "      <td>99.765120</td>\n",
       "      <td>0.234880</td>\n",
       "    </tr>\n",
       "  </tbody>\n",
       "</table>\n",
       "</div>"
      ],
      "text/plain": [
       "  GeographyCode  KS101EW0001  KS101EW0002  KS101EW0003  KS101EW0004  \\\n",
       "0     E01000001         1465          767          698         1465   \n",
       "1     E01000002         1436          767          669         1436   \n",
       "2     E01000003         1346          714          632         1250   \n",
       "3     E01000005          985          528          457          985   \n",
       "4     E01000006         1703          866          837         1699   \n",
       "\n",
       "   KS101EW0005  KS101EW0006  KS101EW0007  KS101EW0008  KS101EW0009  \\\n",
       "0            0           21        12.98   112.865948    52.354949   \n",
       "1            0           22        22.84    62.872154    53.412256   \n",
       "2           96           12         5.91   227.749577    53.046062   \n",
       "3            0            5        18.96    51.951477    53.604061   \n",
       "4            4           16        14.66   116.166439    50.851439   \n",
       "\n",
       "   KS101EW0010  KS101EW0011  KS101EW0012  \n",
       "0    47.645051   100.000000     0.000000  \n",
       "1    46.587744   100.000000     0.000000  \n",
       "2    46.953938    92.867756     7.132244  \n",
       "3    46.395939   100.000000     0.000000  \n",
       "4    49.148561    99.765120     0.234880  "
      ]
     },
     "execution_count": 12,
     "metadata": {},
     "output_type": "execute_result"
    }
   ],
   "source": [
    "ts11.head()"
   ]
  },
  {
   "cell_type": "code",
   "execution_count": 13,
   "id": "bc3d8313-6c9b-44f6-83ae-c0bfe3f503e7",
   "metadata": {},
   "outputs": [],
   "source": [
    "ts11 = ts11[['GeographyCode', 'KS101EW0001']]\n",
    "ts11 = ts11.set_axis(['LSOA11CD', 'TotalRes11'], axis=1)"
   ]
  },
  {
   "cell_type": "code",
   "execution_count": 14,
   "id": "7bbbb5b8-b104-444c-8e23-3c458bb37cf7",
   "metadata": {},
   "outputs": [
    {
     "data": {
      "text/html": [
       "<div>\n",
       "<style scoped>\n",
       "    .dataframe tbody tr th:only-of-type {\n",
       "        vertical-align: middle;\n",
       "    }\n",
       "\n",
       "    .dataframe tbody tr th {\n",
       "        vertical-align: top;\n",
       "    }\n",
       "\n",
       "    .dataframe thead th {\n",
       "        text-align: right;\n",
       "    }\n",
       "</style>\n",
       "<table border=\"1\" class=\"dataframe\">\n",
       "  <thead>\n",
       "    <tr style=\"text-align: right;\">\n",
       "      <th></th>\n",
       "      <th>LSOA11CD</th>\n",
       "      <th>TotalRes11</th>\n",
       "    </tr>\n",
       "  </thead>\n",
       "  <tbody>\n",
       "    <tr>\n",
       "      <th>0</th>\n",
       "      <td>E01000001</td>\n",
       "      <td>1465</td>\n",
       "    </tr>\n",
       "    <tr>\n",
       "      <th>1</th>\n",
       "      <td>E01000002</td>\n",
       "      <td>1436</td>\n",
       "    </tr>\n",
       "    <tr>\n",
       "      <th>2</th>\n",
       "      <td>E01000003</td>\n",
       "      <td>1346</td>\n",
       "    </tr>\n",
       "    <tr>\n",
       "      <th>3</th>\n",
       "      <td>E01000005</td>\n",
       "      <td>985</td>\n",
       "    </tr>\n",
       "    <tr>\n",
       "      <th>4</th>\n",
       "      <td>E01000006</td>\n",
       "      <td>1703</td>\n",
       "    </tr>\n",
       "  </tbody>\n",
       "</table>\n",
       "</div>"
      ],
      "text/plain": [
       "    LSOA11CD  TotalRes11\n",
       "0  E01000001        1465\n",
       "1  E01000002        1436\n",
       "2  E01000003        1346\n",
       "3  E01000005         985\n",
       "4  E01000006        1703"
      ]
     },
     "execution_count": 14,
     "metadata": {},
     "output_type": "execute_result"
    }
   ],
   "source": [
    "ts11.head()"
   ]
  },
  {
   "cell_type": "code",
   "execution_count": 15,
   "id": "363c5c2b-0727-4fe5-88f7-2c6fb0e8cff0",
   "metadata": {},
   "outputs": [],
   "source": [
    "ts21 = pd.read_csv(census_ipath / \"census2021-ts001-lsoa.csv\")"
   ]
  },
  {
   "cell_type": "code",
   "execution_count": 16,
   "id": "cc30cf19-eff3-4925-b421-3b93c28205a5",
   "metadata": {},
   "outputs": [
    {
     "data": {
      "text/html": [
       "<div>\n",
       "<style scoped>\n",
       "    .dataframe tbody tr th:only-of-type {\n",
       "        vertical-align: middle;\n",
       "    }\n",
       "\n",
       "    .dataframe tbody tr th {\n",
       "        vertical-align: top;\n",
       "    }\n",
       "\n",
       "    .dataframe thead th {\n",
       "        text-align: right;\n",
       "    }\n",
       "</style>\n",
       "<table border=\"1\" class=\"dataframe\">\n",
       "  <thead>\n",
       "    <tr style=\"text-align: right;\">\n",
       "      <th></th>\n",
       "      <th>date</th>\n",
       "      <th>geography</th>\n",
       "      <th>geography code</th>\n",
       "      <th>Residence type: Total; measures: Value</th>\n",
       "      <th>Residence type: Lives in a household; measures: Value</th>\n",
       "      <th>Residence type: Lives in a communal establishment; measures: Value</th>\n",
       "    </tr>\n",
       "  </thead>\n",
       "  <tbody>\n",
       "    <tr>\n",
       "      <th>0</th>\n",
       "      <td>2021</td>\n",
       "      <td>Hartlepool 001A</td>\n",
       "      <td>E01011954</td>\n",
       "      <td>2284</td>\n",
       "      <td>2284</td>\n",
       "      <td>0</td>\n",
       "    </tr>\n",
       "    <tr>\n",
       "      <th>1</th>\n",
       "      <td>2021</td>\n",
       "      <td>Hartlepool 001B</td>\n",
       "      <td>E01011969</td>\n",
       "      <td>1344</td>\n",
       "      <td>1344</td>\n",
       "      <td>0</td>\n",
       "    </tr>\n",
       "    <tr>\n",
       "      <th>2</th>\n",
       "      <td>2021</td>\n",
       "      <td>Hartlepool 001C</td>\n",
       "      <td>E01011970</td>\n",
       "      <td>1070</td>\n",
       "      <td>1070</td>\n",
       "      <td>0</td>\n",
       "    </tr>\n",
       "    <tr>\n",
       "      <th>3</th>\n",
       "      <td>2021</td>\n",
       "      <td>Hartlepool 001D</td>\n",
       "      <td>E01011971</td>\n",
       "      <td>1323</td>\n",
       "      <td>1323</td>\n",
       "      <td>0</td>\n",
       "    </tr>\n",
       "    <tr>\n",
       "      <th>4</th>\n",
       "      <td>2021</td>\n",
       "      <td>Hartlepool 001F</td>\n",
       "      <td>E01033465</td>\n",
       "      <td>1955</td>\n",
       "      <td>1955</td>\n",
       "      <td>0</td>\n",
       "    </tr>\n",
       "  </tbody>\n",
       "</table>\n",
       "</div>"
      ],
      "text/plain": [
       "   date        geography geography code  \\\n",
       "0  2021  Hartlepool 001A      E01011954   \n",
       "1  2021  Hartlepool 001B      E01011969   \n",
       "2  2021  Hartlepool 001C      E01011970   \n",
       "3  2021  Hartlepool 001D      E01011971   \n",
       "4  2021  Hartlepool 001F      E01033465   \n",
       "\n",
       "   Residence type: Total; measures: Value  \\\n",
       "0                                    2284   \n",
       "1                                    1344   \n",
       "2                                    1070   \n",
       "3                                    1323   \n",
       "4                                    1955   \n",
       "\n",
       "   Residence type: Lives in a household; measures: Value  \\\n",
       "0                                               2284       \n",
       "1                                               1344       \n",
       "2                                               1070       \n",
       "3                                               1323       \n",
       "4                                               1955       \n",
       "\n",
       "   Residence type: Lives in a communal establishment; measures: Value  \n",
       "0                                                  0                   \n",
       "1                                                  0                   \n",
       "2                                                  0                   \n",
       "3                                                  0                   \n",
       "4                                                  0                   "
      ]
     },
     "execution_count": 16,
     "metadata": {},
     "output_type": "execute_result"
    }
   ],
   "source": [
    "ts21.head()"
   ]
  },
  {
   "cell_type": "code",
   "execution_count": 17,
   "id": "d1853c67-f879-4860-8d40-eca127ed642a",
   "metadata": {},
   "outputs": [],
   "source": [
    "ts21 = ts21[['geography code', 'Residence type: Total; measures: Value']]\n",
    "ts21 = ts21.set_axis(['LSOA21CD', 'TotalRes21'], axis=1)"
   ]
  },
  {
   "cell_type": "code",
   "execution_count": 18,
   "id": "28486130-dceb-42b0-8adf-c19bd161745a",
   "metadata": {},
   "outputs": [
    {
     "data": {
      "text/html": [
       "<div>\n",
       "<style scoped>\n",
       "    .dataframe tbody tr th:only-of-type {\n",
       "        vertical-align: middle;\n",
       "    }\n",
       "\n",
       "    .dataframe tbody tr th {\n",
       "        vertical-align: top;\n",
       "    }\n",
       "\n",
       "    .dataframe thead th {\n",
       "        text-align: right;\n",
       "    }\n",
       "</style>\n",
       "<table border=\"1\" class=\"dataframe\">\n",
       "  <thead>\n",
       "    <tr style=\"text-align: right;\">\n",
       "      <th></th>\n",
       "      <th>LSOA21CD</th>\n",
       "      <th>TotalRes21</th>\n",
       "    </tr>\n",
       "  </thead>\n",
       "  <tbody>\n",
       "    <tr>\n",
       "      <th>0</th>\n",
       "      <td>E01011954</td>\n",
       "      <td>2284</td>\n",
       "    </tr>\n",
       "    <tr>\n",
       "      <th>1</th>\n",
       "      <td>E01011969</td>\n",
       "      <td>1344</td>\n",
       "    </tr>\n",
       "    <tr>\n",
       "      <th>2</th>\n",
       "      <td>E01011970</td>\n",
       "      <td>1070</td>\n",
       "    </tr>\n",
       "    <tr>\n",
       "      <th>3</th>\n",
       "      <td>E01011971</td>\n",
       "      <td>1323</td>\n",
       "    </tr>\n",
       "    <tr>\n",
       "      <th>4</th>\n",
       "      <td>E01033465</td>\n",
       "      <td>1955</td>\n",
       "    </tr>\n",
       "  </tbody>\n",
       "</table>\n",
       "</div>"
      ],
      "text/plain": [
       "    LSOA21CD  TotalRes21\n",
       "0  E01011954        2284\n",
       "1  E01011969        1344\n",
       "2  E01011970        1070\n",
       "3  E01011971        1323\n",
       "4  E01033465        1955"
      ]
     },
     "execution_count": 18,
     "metadata": {},
     "output_type": "execute_result"
    }
   ],
   "source": [
    "ts21.head()"
   ]
  },
  {
   "cell_type": "code",
   "execution_count": 19,
   "id": "df57fa83-8686-43d0-a273-6b70d7397fb4",
   "metadata": {},
   "outputs": [],
   "source": [
    "census_gpath = Path(\"../data/geographies/census/\")\n",
    "boundaries = gpd.read_file(census_gpath / \"london-2021-lsoa.shp\").set_index('LSOA21NM')"
   ]
  },
  {
   "cell_type": "code",
   "execution_count": 20,
   "id": "8fd05aac-b525-42c7-98bc-9e9a111eb4d7",
   "metadata": {},
   "outputs": [
    {
     "name": "stdout",
     "output_type": "stream",
     "text": [
      "epsg:27700\n"
     ]
    }
   ],
   "source": [
    "print(boundaries.crs)"
   ]
  },
  {
   "cell_type": "code",
   "execution_count": 21,
   "id": "44130a03-fdea-4600-a730-9cc271214cab",
   "metadata": {},
   "outputs": [],
   "source": [
    "boundaries['sqkm21'] = boundaries['geometry'].area / 10**6"
   ]
  },
  {
   "cell_type": "code",
   "execution_count": 22,
   "id": "ff4467e6-4c24-46e7-9b9c-45eb4b8f69df",
   "metadata": {},
   "outputs": [
    {
     "data": {
      "text/html": [
       "<div>\n",
       "<style scoped>\n",
       "    .dataframe tbody tr th:only-of-type {\n",
       "        vertical-align: middle;\n",
       "    }\n",
       "\n",
       "    .dataframe tbody tr th {\n",
       "        vertical-align: top;\n",
       "    }\n",
       "\n",
       "    .dataframe thead th {\n",
       "        text-align: right;\n",
       "    }\n",
       "</style>\n",
       "<table border=\"1\" class=\"dataframe\">\n",
       "  <thead>\n",
       "    <tr style=\"text-align: right;\">\n",
       "      <th></th>\n",
       "      <th>LSOA21CD</th>\n",
       "      <th>MSOA21CD</th>\n",
       "      <th>MSOA21NM</th>\n",
       "      <th>LAD22CD</th>\n",
       "      <th>LAD22NM</th>\n",
       "      <th>geometry</th>\n",
       "      <th>sqkm21</th>\n",
       "    </tr>\n",
       "    <tr>\n",
       "      <th>LSOA21NM</th>\n",
       "      <th></th>\n",
       "      <th></th>\n",
       "      <th></th>\n",
       "      <th></th>\n",
       "      <th></th>\n",
       "      <th></th>\n",
       "      <th></th>\n",
       "    </tr>\n",
       "  </thead>\n",
       "  <tbody>\n",
       "    <tr>\n",
       "      <th>City of London 001A</th>\n",
       "      <td>E01000001</td>\n",
       "      <td>E02000001</td>\n",
       "      <td>City of London 001</td>\n",
       "      <td>E09000001</td>\n",
       "      <td>City of London</td>\n",
       "      <td>POLYGON ((532151.537 181867.433, 532152.500 18...</td>\n",
       "      <td>0.129865</td>\n",
       "    </tr>\n",
       "    <tr>\n",
       "      <th>City of London 001B</th>\n",
       "      <td>E01000002</td>\n",
       "      <td>E02000001</td>\n",
       "      <td>City of London 001</td>\n",
       "      <td>E09000001</td>\n",
       "      <td>City of London</td>\n",
       "      <td>POLYGON ((532634.497 181926.016, 532632.048 18...</td>\n",
       "      <td>0.228420</td>\n",
       "    </tr>\n",
       "    <tr>\n",
       "      <th>City of London 001C</th>\n",
       "      <td>E01000003</td>\n",
       "      <td>E02000001</td>\n",
       "      <td>City of London 001</td>\n",
       "      <td>E09000001</td>\n",
       "      <td>City of London</td>\n",
       "      <td>POLYGON ((532153.703 182165.155, 532158.250 18...</td>\n",
       "      <td>0.059054</td>\n",
       "    </tr>\n",
       "    <tr>\n",
       "      <th>City of London 001E</th>\n",
       "      <td>E01000005</td>\n",
       "      <td>E02000001</td>\n",
       "      <td>City of London 001</td>\n",
       "      <td>E09000001</td>\n",
       "      <td>City of London</td>\n",
       "      <td>POLYGON ((533619.062 181402.364, 533639.868 18...</td>\n",
       "      <td>0.189578</td>\n",
       "    </tr>\n",
       "    <tr>\n",
       "      <th>Barking and Dagenham 016A</th>\n",
       "      <td>E01000006</td>\n",
       "      <td>E02000017</td>\n",
       "      <td>Barking and Dagenham 016</td>\n",
       "      <td>E09000002</td>\n",
       "      <td>Barking and Dagenham</td>\n",
       "      <td>POLYGON ((545126.852 184310.838, 545145.213 18...</td>\n",
       "      <td>0.146537</td>\n",
       "    </tr>\n",
       "  </tbody>\n",
       "</table>\n",
       "</div>"
      ],
      "text/plain": [
       "                            LSOA21CD   MSOA21CD                  MSOA21NM  \\\n",
       "LSOA21NM                                                                    \n",
       "City of London 001A        E01000001  E02000001        City of London 001   \n",
       "City of London 001B        E01000002  E02000001        City of London 001   \n",
       "City of London 001C        E01000003  E02000001        City of London 001   \n",
       "City of London 001E        E01000005  E02000001        City of London 001   \n",
       "Barking and Dagenham 016A  E01000006  E02000017  Barking and Dagenham 016   \n",
       "\n",
       "                             LAD22CD               LAD22NM  \\\n",
       "LSOA21NM                                                     \n",
       "City of London 001A        E09000001        City of London   \n",
       "City of London 001B        E09000001        City of London   \n",
       "City of London 001C        E09000001        City of London   \n",
       "City of London 001E        E09000001        City of London   \n",
       "Barking and Dagenham 016A  E09000002  Barking and Dagenham   \n",
       "\n",
       "                                                                    geometry  \\\n",
       "LSOA21NM                                                                       \n",
       "City of London 001A        POLYGON ((532151.537 181867.433, 532152.500 18...   \n",
       "City of London 001B        POLYGON ((532634.497 181926.016, 532632.048 18...   \n",
       "City of London 001C        POLYGON ((532153.703 182165.155, 532158.250 18...   \n",
       "City of London 001E        POLYGON ((533619.062 181402.364, 533639.868 18...   \n",
       "Barking and Dagenham 016A  POLYGON ((545126.852 184310.838, 545145.213 18...   \n",
       "\n",
       "                             sqkm21  \n",
       "LSOA21NM                             \n",
       "City of London 001A        0.129865  \n",
       "City of London 001B        0.228420  \n",
       "City of London 001C        0.059054  \n",
       "City of London 001E        0.189578  \n",
       "Barking and Dagenham 016A  0.146537  "
      ]
     },
     "execution_count": 22,
     "metadata": {},
     "output_type": "execute_result"
    }
   ],
   "source": [
    "boundaries.head()"
   ]
  },
  {
   "cell_type": "code",
   "execution_count": 23,
   "id": "ef5bd5c2-7d81-4a46-bcbc-0654c6d24a21",
   "metadata": {},
   "outputs": [],
   "source": [
    "areas = boundaries[['LSOA21CD', 'sqkm21']]"
   ]
  },
  {
   "cell_type": "markdown",
   "id": "64a95306-8b3b-47c6-8d07-11ac5d20e34b",
   "metadata": {},
   "source": [
    "*Merge Data*\n",
    "- Merge 2011 data to bestfit on LSOA11CD \n",
    "- Merge 2021 data to bestfit on LSOA21CD\n",
    "- Merge 2021 areas on LSOA21CD"
   ]
  },
  {
   "cell_type": "code",
   "execution_count": 24,
   "id": "53a2f06a-4371-4ac1-8e52-786e48a19525",
   "metadata": {},
   "outputs": [],
   "source": [
    "merge_bestfit = pd.merge(bestfit, ts11, how='left', on='LSOA11CD')"
   ]
  },
  {
   "cell_type": "code",
   "execution_count": 25,
   "id": "c088b247-86a6-4ceb-b903-d3dcfb8ac3a1",
   "metadata": {},
   "outputs": [],
   "source": [
    "merge_bestfit = pd.merge(merge_bestfit, ts21, how='left', on='LSOA21CD')"
   ]
  },
  {
   "cell_type": "code",
   "execution_count": 26,
   "id": "b34c6fbd-d372-482c-a254-20eebaada2be",
   "metadata": {},
   "outputs": [],
   "source": [
    "merge_bestfit = pd.merge(merge_bestfit, areas, how='left', on='LSOA21CD')"
   ]
  },
  {
   "cell_type": "markdown",
   "id": "b5763ad0-e96a-407a-a022-4ecf3cd8b91f",
   "metadata": {},
   "source": [
    "*Calc props*\n",
    "- Create '2021 area prop' column:\n",
    "    - Where CHGIND is U, set value 1\n",
    "    - Where CHGIND is M, set value 2\n",
    "    - Where CHGIND is S: calculate proportion from sum of areas for LSOAs with identical LSOA11CD "
   ]
  },
  {
   "cell_type": "code",
   "execution_count": 27,
   "id": "9a60b200-d1d0-4ec7-8cf8-81a0882e7810",
   "metadata": {},
   "outputs": [],
   "source": [
    "merge_bestfit['prop21'] = merge_bestfit['sqkm21'] / merge_bestfit.groupby('LSOA11CD')['sqkm21'].transform('sum')"
   ]
  },
  {
   "cell_type": "code",
   "execution_count": 28,
   "id": "5db9c2f3-2d3c-4b75-b49d-fb36af0d943d",
   "metadata": {},
   "outputs": [],
   "source": [
    "merge_bestfit.loc[merge_bestfit['CHGIND'] == 'M', 'prop21'] = 2"
   ]
  },
  {
   "cell_type": "code",
   "execution_count": 29,
   "id": "1393781a-0685-411b-a0e2-de04fdaa065a",
   "metadata": {},
   "outputs": [],
   "source": [
    "census_opath = Path(\"../data/census/\")\n",
    "merge_bestfit.to_csv(census_opath / \"merge_bestfit.csv\")"
   ]
  },
  {
   "cell_type": "markdown",
   "id": "47b2aaa8-7f11-40b7-b3c0-ef91ddefe30e",
   "metadata": {},
   "source": [
    "*Calc 2021 merged*\n",
    "- Create 'merged 2011' column\n",
    "    - Where CHGIND is U, use original 2011 data value \n",
    "    - Where CHGIND is M, use sum of 2011 LSOAs with the LSOA21CD for M\n",
    "    - Where CHGIND is S, multiply original 2011 data value by '2021 area prop'"
   ]
  }
 ],
 "metadata": {
  "kernelspec": {
   "display_name": "Python 3 (ipykernel)",
   "language": "python",
   "name": "python3"
  },
  "language_info": {
   "codemirror_mode": {
    "name": "ipython",
    "version": 3
   },
   "file_extension": ".py",
   "mimetype": "text/x-python",
   "name": "python",
   "nbconvert_exporter": "python",
   "pygments_lexer": "ipython3",
   "version": "3.9.13"
  }
 },
 "nbformat": 4,
 "nbformat_minor": 5
}
