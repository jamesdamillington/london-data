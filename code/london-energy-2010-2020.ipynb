{
 "cells": [
  {
   "cell_type": "markdown",
   "id": "d408ba67-fc54-489e-82a0-2357ec90aef5",
   "metadata": {
    "tags": []
   },
   "source": [
    "# Manipulate ONS LSOA Gas & Electricity Consumption Data from GB to London\n",
    "\n",
    "Part of [london-data](https://github.com/jamesdamillington/london-data), by [jamesdamillington](https://github.com/jamesdamillington)"
   ]
  },
  {
   "cell_type": "markdown",
   "id": "c6767295-18cc-4671-9dfc-399324681049",
   "metadata": {
    "tags": []
   },
   "source": [
    "## Aim\n",
    "Subset Lower and Middle Super Output Areas [gas consumption](https://www.gov.uk/government/statistics/lower-and-middle-super-output-areas-gas-consumption) and [electricity consumption](https://www.gov.uk/government/statistics/lower-and-middle-super-output-areas-electricity-consumption) data from Great Britain extent to London. \n",
    "\n",
    "Inputs are `.xlsx`, outputs will be `.csv` that can be readily joined to [ONS Geographies data](https://github.com/jamesdamillington/london-data/tree/main/data/geographies/census). "
   ]
  },
  {
   "cell_type": "code",
   "execution_count": 1,
   "id": "d5a3bc29-fbc1-4d10-b9ee-4f3771acdf89",
   "metadata": {},
   "outputs": [
    {
     "name": "stdout",
     "output_type": "stream",
     "text": [
      "Last tested: 2022-08-25\n"
     ]
    }
   ],
   "source": [
    "from datetime import date\n",
    "print(f'Last tested: {date.today()}')"
   ]
  },
  {
   "cell_type": "code",
   "execution_count": 2,
   "id": "4dc48413-7e74-4beb-814d-17f3c561e9c2",
   "metadata": {},
   "outputs": [],
   "source": [
    "import pyproj\n",
    "import geopandas as gpd\n",
    "import pandas as pd\n",
    "from functools import reduce\n",
    "import matplotlib.pyplot as plt\n",
    "from pathlib import Path"
   ]
  },
  {
   "cell_type": "markdown",
   "id": "b9d7819c-4c50-4c28-9bdc-f1ee7880f8ec",
   "metadata": {},
   "source": [
    "## Get Geography"
   ]
  },
  {
   "cell_type": "markdown",
   "id": "21314bad-c8fa-4653-8e9f-a23bc809b688",
   "metadata": {},
   "source": [
    "Read [London 2011 LSOA census geography](https://github.com/jamesdamillington/london-data/tree/main/data/geographies/census) for filtering Great Britain data to London only.\n",
    "> Source: Office for National Statistics licensed under the [Open Government Licence v.3.0]()  \n",
    "Contains OS data © Crown copyright and database right (2022)"
   ]
  },
  {
   "cell_type": "code",
   "execution_count": 5,
   "id": "bf28ee2f-dd51-4ab8-bf5b-06ecafe6be86",
   "metadata": {},
   "outputs": [
    {
     "name": "stdout",
     "output_type": "stream",
     "text": [
      "<class 'geopandas.geodataframe.GeoDataFrame'>\n",
      "RangeIndex: 4835 entries, 0 to 4834\n",
      "Data columns (total 7 columns):\n",
      " #   Column    Non-Null Count  Dtype   \n",
      "---  ------    --------------  -----   \n",
      " 0   LSOA11CD  4835 non-null   object  \n",
      " 1   LSOA11NM  4835 non-null   object  \n",
      " 2   MSOA11CD  4835 non-null   object  \n",
      " 3   MSOA11NM  4835 non-null   object  \n",
      " 4   LAD11CD   4835 non-null   object  \n",
      " 5   LAD11NM   4835 non-null   object  \n",
      " 6   geometry  4835 non-null   geometry\n",
      "dtypes: geometry(1), object(6)\n",
      "memory usage: 264.5+ KB\n"
     ]
    }
   ],
   "source": [
    "census_path = Path(\"../data/geographies/census/\")\n",
    "london = gpd.read_file(census_path/\"london-2011-lsoa.shp\")\n",
    "london.info()"
   ]
  },
  {
   "cell_type": "markdown",
   "id": "f293ceef-54ce-4321-9e26-0228a3cb3ac0",
   "metadata": {},
   "source": [
    "## Read, Clean, Filter\n",
    "\n",
    "[Original gas data](https://assets.publishing.service.gov.uk/government/uploads/system/uploads/attachment_data/file/1050186/LSOA_domestic_gas_2010-20.xlsx) downloaded [2022-08-25].  \n",
    "[Original electricity data](https://assets.publishing.service.gov.uk/government/uploads/system/uploads/attachment_data/file/1050110/LSOA_domestic_elec_2010-20.xlsx) downloaded [2022-08-25]."
   ]
  },
  {
   "cell_type": "code",
   "execution_count": null,
   "id": "10bf8445-887f-4dc7-b327-68bc7bed629f",
   "metadata": {},
   "outputs": [],
   "source": [
    "energy_ipath = Path(\"../data/inputs/energy/\")\n",
    "gas_filepath = energy_ipath/\"LSOA_domestic_gas_2010-20.xlsx\"\n",
    "elec_filepath = energy_ipath/\"LSOA_domestic_elec_2010-20.xlsx\""
   ]
  },
  {
   "cell_type": "markdown",
   "id": "82a9fcf2-d6a6-453b-9754-b4cc004a3efb",
   "metadata": {},
   "source": [
    "Function to read a sheet (per year) from the excel workbook and clean."
   ]
  },
  {
   "cell_type": "code",
   "execution_count": null,
   "id": "58d087a8-d253-4c8e-a4b2-d15630bb87a2",
   "metadata": {},
   "outputs": [],
   "source": [
    "def read_clean_sheet(energy, year):\n",
    "    if(energy == 'gas'):\n",
    "        file = gas_filepath\n",
    "    elif(energy == 'elec'):\n",
    "        file = elec_filepath\n",
    "    else:\n",
    "        raise ValueError(\"energy should be 'gas' or 'elec'\")\n",
    "\n",
    "    print(\"reading sheet {0}...\".format(year))\n",
    "    thepd = pd.read_excel(io=file, sheet_name=str(year), usecols=[4,6,7,8,9], header=4)\n",
    "    \n",
    "    thepd.rename(inplace=True, columns={\n",
    "        'LSOA code':'LSOA11CD',     #rename for merge below\n",
    "        'Number\\nof meters\\n':'meters_n_{0}'.format(year),\n",
    "        'Total \\nconsumption\\n(kWh)':'total_kWh_{0}'.format(year)\n",
    "    })\n",
    "    \n",
    "    #Mean and Median column headers are formatted differently between gas and electricity!\n",
    "    if(energy == 'gas'):             \n",
    "        thepd.rename(inplace=True, columns={\n",
    "            'Mean \\nconsumption\\n(kWh per meter)':'mean_kWhpm_{0}'.format(year),\n",
    "            'Median \\nconsumption\\n(kWh per meter)':'median_kWhpm_{0}'.format(year)\n",
    "        })\n",
    "    if(energy == 'elec'):\n",
    "        thepd.rename(inplace=True, columns={\n",
    "            'Mean consumption\\n(kWh per meter)':'mean_kWhpm_{0}'.format(year),\n",
    "            'Median consumption\\n(kWh per meter)':'median_kWhpm_{0}'.format(year)\n",
    "        })\n",
    "    return thepd"
   ]
  },
  {
   "cell_type": "markdown",
   "id": "27f6b378-db51-47df-ab5e-b52544679db1",
   "metadata": {},
   "source": [
    "Read data for each sheet in gas Excel file and combine into single DataFrame for London LSOAs only"
   ]
  },
  {
   "cell_type": "code",
   "execution_count": null,
   "id": "26aa34ed-7d8b-417e-b32e-9b310cc23f7d",
   "metadata": {},
   "outputs": [],
   "source": [
    "london_gas = london.copy(deep=False)\n",
    "\n",
    "for yr in range(2010,2021):\n",
    "    thispd = read_clean_sheet(energy='gas', year=yr)\n",
    "    london_gas = pd.merge(london_gas,thispd,on=['LSOA11CD'], how='left')  #retains London LSOAs only"
   ]
  },
  {
   "cell_type": "markdown",
   "id": "e63a2163-37ba-4429-92b5-91fb571c39a8",
   "metadata": {},
   "source": [
    "Read data for each sheet in electricity Excel file and combine into single DataFrame for London LSOAs only"
   ]
  },
  {
   "cell_type": "code",
   "execution_count": null,
   "id": "ff6dd830-dcb0-4d1e-b51f-e415d26412e4",
   "metadata": {},
   "outputs": [],
   "source": [
    "london_elec = london.copy(deep=False)\n",
    "\n",
    "for yr in range(2010,2021):\n",
    "    thispd = read_clean_sheet(energy='elec', year=yr)\n",
    "    london_elec = pd.merge(london_elec,thispd,on=['LSOA11CD'], how='left')"
   ]
  },
  {
   "cell_type": "markdown",
   "id": "6fa4dbe9-a6c8-428b-a53c-56828bb420ff",
   "metadata": {},
   "source": [
    "## Check \n",
    "Note there are missing values for some LSOAs. As the notes (see metadata) state:\n",
    ">Where no figures are provided for a given LSOA this is because no domestic gas meters were allocated to the LSOA. The possible reasons for this are:  \n",
    ">- No domestic gas meters had postcodes which could be matched to the LSOA in question. This includes LSOAs which had no domestic properties   connected to the gas grid.\n",
    ">- Any domestic gas meters matched to the given LSOA were re-allocated to the \"Unallocated\" row for disclosure control reasons (e.g. if there were fewer    than 5 meters matched to the LSOA).\n",
    "\n",
    "We can see likely missing 'industrial' LSOAs along the river:"
   ]
  },
  {
   "cell_type": "code",
   "execution_count": null,
   "id": "b76a4114-520e-44fe-bfde-da6073a19a0d",
   "metadata": {},
   "outputs": [],
   "source": [
    "custom_xlim=(525000,545000)\n",
    "custom_ylim=(175000,185000)\n",
    "licence=\"Source: Office for National Statistics licensed under the Open Government Licence v.3.0\\nContains OS data © Crown copyright and database right (2022)\"\n",
    "\n",
    "fig, ax = plt.subplots(1, figsize=(10, 5.5))\n",
    "london_gas.plot(column='meters_n_2011',ax=ax)\n",
    "plt.setp(ax, xlim=custom_xlim, ylim=custom_ylim)\n",
    "fig.supxlabel(licence)\n",
    "plt.show()"
   ]
  },
  {
   "cell_type": "markdown",
   "id": "32247c0d-0a77-49f2-b38c-4aecaa516814",
   "metadata": {},
   "source": [
    "## Write to file "
   ]
  },
  {
   "cell_type": "code",
   "execution_count": null,
   "id": "5e7ede67-cd8f-4650-938f-494b156c2e78",
   "metadata": {},
   "outputs": [],
   "source": [
    "#drop geometry data from output files\n",
    "london_gas.drop('geometry',axis=1, inplace=True)\n",
    "london_elec.drop('geometry',axis=1, inplace=True)"
   ]
  },
  {
   "cell_type": "code",
   "execution_count": null,
   "id": "c949d674-42af-4d0c-b14c-435752f6d378",
   "metadata": {},
   "outputs": [],
   "source": [
    "energy_opath = Path(\"../data/energy/\")\n",
    "london_gas.to_csv(energy_opath/\"london-2010-2020-gas.csv\",index=False)\n",
    "london_elec.to_csv(energy_opath/\"london-2010-2020-elec.csv\",index=False)"
   ]
  },
  {
   "cell_type": "markdown",
   "id": "189103b3-1740-476b-a8c1-e9bd042b92f5",
   "metadata": {},
   "source": [
    "Create metadata files (including notes from original Excel sheet)"
   ]
  },
  {
   "cell_type": "code",
   "execution_count": null,
   "id": "d0e7e899-6d0e-46fd-b3ae-a464be34b557",
   "metadata": {},
   "outputs": [],
   "source": [
    "with open(energy_opath/'metadata_gas.txt', 'w') as file:\n",
    "    file.write('Metadata \\n')\n",
    "    file.write('Data are from https://assets.publishing.service.gov.uk/government/uploads/system/uploads/attachment_data/file/1050186/LSOA_domestic_gas_2010-20.xlsx \\n')\n",
    "    file.write('Column names are formatted from the original Excel sheet as follows: \\n')\n",
    "    file.write('\\tLSOA11CD,LSOA11NM,MSOA11CD,MSOA11NM,LAD11CD,LAD11NM are standard ONS census Geography codes') \n",
    "    file.write('\\tmeters_n_#### is Number of meters for year ####\\n')\n",
    "    file.write('\\ttotal_kWh_#### is Total consumption (kWh) for year ####\\n')\n",
    "    file.write('\\tmean_kWhpm_#### is Mean consumption (kWh per meter) for year ####\\n')\n",
    "    file.write('\\tmedian_kWhpm_#### is Median consumption (kWh per meter) for year ####\\n')\n",
    "    file.write('\\nNotes below are from original file:\\n') \n",
    "    pd.read_excel(io=gas,sheet_name='Cover sheet').to_string(file, index=False)  "
   ]
  },
  {
   "cell_type": "code",
   "execution_count": null,
   "id": "267f86b4-657c-41ab-81fb-7f156e580254",
   "metadata": {},
   "outputs": [],
   "source": [
    "with open(energy_opath/'metadata_elec.txt', 'w') as file:\n",
    "    file.write('Metadata \\n')\n",
    "    file.write('Data are from https://assets.publishing.service.gov.uk/government/uploads/system/uploads/attachment_data/file/1050110/LSOA_domestic_elec_2010-20.xlsx \\n')\n",
    "    file.write('Column names are formatted from the original Excel sheet as follows: \\n')\n",
    "    file.write('\\tLSOA11CD, LSOA11NM, MSOA11CD, MSOA11NM, LAD11CD, LAD11NM are standard ONS census Geography codes\\n') \n",
    "    file.write('\\tmeters_n_#### is Number of meters for year ####\\n')\n",
    "    file.write('\\ttotal_kWh_#### is Total consumption (kWh) for year ####\\n')\n",
    "    file.write('\\tmean_kWhpm_#### is Mean consumption (kWh per meter) for year ####\\n')\n",
    "    file.write('\\tmedian_kWhpm_#### is Median consumption (kWh per meter) for year ####\\n')\n",
    "    file.write('\\nNotes below are from original file:\\n') \n",
    "    pd.read_excel(io=gas,sheet_name='Cover sheet').to_string(file, index=False)"
   ]
  }
 ],
 "metadata": {
  "kernelspec": {
   "display_name": "Python 3 (ipykernel)",
   "language": "python",
   "name": "python3"
  },
  "language_info": {
   "codemirror_mode": {
    "name": "ipython",
    "version": 3
   },
   "file_extension": ".py",
   "mimetype": "text/x-python",
   "name": "python",
   "nbconvert_exporter": "python",
   "pygments_lexer": "ipython3",
   "version": "3.9.13"
  }
 },
 "nbformat": 4,
 "nbformat_minor": 5
}
